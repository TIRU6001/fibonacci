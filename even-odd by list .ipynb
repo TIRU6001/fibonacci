{
 "cells": [
  {
   "cell_type": "code",
   "execution_count": 2,
   "id": "5c5f3671",
   "metadata": {},
   "outputs": [
    {
     "name": "stdout",
     "output_type": "stream",
     "text": [
      "[1, 2, 3, 4, 5, 6, 7, 8, 9]\n",
      "even number 5\n",
      "odd number 4\n",
      "*******************************************end of program*******************************************\n"
     ]
    }
   ],
   "source": [
    "l=[1,2,3,4,5,6,7,8,9]\n",
    "b=0\n",
    "c=0\n",
    "for i in range (0,9):\n",
    "    if i%2==0:\n",
    "        b=b+1\n",
    "    else:\n",
    "        c=c+1\n",
    "print(l)\n",
    "print('even number',b)\n",
    "print('odd number',c)\n",
    "print(\"end of program\".center(100,'*'))"
   ]
  },
  {
   "cell_type": "code",
   "execution_count": null,
   "id": "7dc2fd78",
   "metadata": {},
   "outputs": [],
   "source": []
  }
 ],
 "metadata": {
  "kernelspec": {
   "display_name": "Python 3 (ipykernel)",
   "language": "python",
   "name": "python3"
  },
  "language_info": {
   "codemirror_mode": {
    "name": "ipython",
    "version": 3
   },
   "file_extension": ".py",
   "mimetype": "text/x-python",
   "name": "python",
   "nbconvert_exporter": "python",
   "pygments_lexer": "ipython3",
   "version": "3.9.7"
  }
 },
 "nbformat": 4,
 "nbformat_minor": 5
}
