{
 "cells": [
  {
   "cell_type": "code",
   "execution_count": 3,
   "id": "ea67c9f3",
   "metadata": {},
   "outputs": [
    {
     "name": "stdout",
     "output_type": "stream",
     "text": [
      "enter a stringEdyoda\n",
      "the original string is:Edyoda\n",
      "the reversed string is:adoydE\n"
     ]
    }
   ],
   "source": [
    "s=input('enter a string')\n",
    "def reverse(s):\n",
    "    str=''\n",
    "    for i in s:\n",
    "        str=i+str\n",
    "    return str\n",
    "print(\"the original string is:\",end =\"\" )\n",
    "print(s)\n",
    "print(\"the reversed string is:\",end=\"\")\n",
    "print(reverse(s))"
   ]
  },
  {
   "cell_type": "code",
   "execution_count": null,
   "id": "def18b62",
   "metadata": {},
   "outputs": [],
   "source": []
  }
 ],
 "metadata": {
  "kernelspec": {
   "display_name": "Python 3 (ipykernel)",
   "language": "python",
   "name": "python3"
  },
  "language_info": {
   "codemirror_mode": {
    "name": "ipython",
    "version": 3
   },
   "file_extension": ".py",
   "mimetype": "text/x-python",
   "name": "python",
   "nbconvert_exporter": "python",
   "pygments_lexer": "ipython3",
   "version": "3.9.7"
  }
 },
 "nbformat": 4,
 "nbformat_minor": 5
}
